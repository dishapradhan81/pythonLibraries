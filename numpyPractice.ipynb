{
 "cells": [
  {
   "cell_type": "code",
   "execution_count": 2,
   "id": "4dbf3a29-674c-4cdb-a974-3866ba2af762",
   "metadata": {},
   "outputs": [],
   "source": [
    "import numpy as np"
   ]
  },
  {
   "cell_type": "markdown",
   "id": "61e7b9cf-7bc9-445c-b5a3-41e036fb79ad",
   "metadata": {},
   "source": [
    "Array"
   ]
  },
  {
   "cell_type": "markdown",
   "id": "e26057c1-d000-47ec-883f-caec782f3c04",
   "metadata": {},
   "source": [
    "The array object in NumPy is called ndarray\n",
    "We can create a NumPy ndarray object by using the array() function"
   ]
  },
  {
   "cell_type": "code",
   "execution_count": 14,
   "id": "734730f9-fbcb-4319-9772-36d4e14c1074",
   "metadata": {},
   "outputs": [
    {
     "name": "stdout",
     "output_type": "stream",
     "text": [
      "[1 2 3 4 5]\n",
      "1\n",
      "<class 'numpy.ndarray'>\n"
     ]
    }
   ],
   "source": [
    "# list to create NumPy array\n",
    "arr = np.array([1, 2, 3, 4, 5])\n",
    "print(arr)\n",
    "print(arr[0])\n",
    "print(type(arr))    # is a python built-in func. that tell the type of object"
   ]
  },
  {
   "cell_type": "code",
   "execution_count": 13,
   "id": "6bf4d275-c0db-48d5-bb21-1f6657ddb0c6",
   "metadata": {},
   "outputs": [
    {
     "name": "stdout",
     "output_type": "stream",
     "text": [
      "[[ 1  2  3  4  5]\n",
      " [ 6  7  8  9 10]]\n",
      "<class 'numpy.ndarray'>\n"
     ]
    }
   ],
   "source": [
    "# tuple to craete NumPy array\n",
    "arrt = np.array((1, 2, 3, 4, 5))\n",
    "print(arr)\n",
    "print(type(arr))"
   ]
  },
  {
   "cell_type": "code",
   "execution_count": 12,
   "id": "49bd0fed-1b2e-4a97-95e7-7cc1b4cf027e",
   "metadata": {},
   "outputs": [
    {
     "name": "stdout",
     "output_type": "stream",
     "text": [
      "[[ 1  2  3  4  5]\n",
      " [ 6  7  8  9 10]]\n",
      "2\n"
     ]
    }
   ],
   "source": [
    "# 2-D array\n",
    "arrd = np.array([[1, 2, 3, 4, 5], [6, 7, 8, 9, 10]])\n",
    "print(arr)\n",
    "print(arr.ndim)  # dimention"
   ]
  },
  {
   "cell_type": "code",
   "execution_count": 15,
   "id": "dffc0ba1-caa6-4540-b036-689331849c34",
   "metadata": {},
   "outputs": [
    {
     "name": "stdout",
     "output_type": "stream",
     "text": [
      "[2 3 4]\n"
     ]
    }
   ],
   "source": [
    "# array slicing\n",
    "arr = np.array([1, 2, 3, 4, 5])\n",
    "print(arr[1:4])"
   ]
  },
  {
   "cell_type": "code",
   "execution_count": 17,
   "id": "34c655d9-34cf-42b4-88f0-63073a47e27f",
   "metadata": {},
   "outputs": [
    {
     "name": "stdout",
     "output_type": "stream",
     "text": [
      "['apple' 'banana' 'orange']\n",
      "<U6\n"
     ]
    }
   ],
   "source": [
    "fruits = np.array(['apple', 'banana', 'orange'])\n",
    "print(fruits)\n",
    "print(fruits.dtype)"
   ]
  },
  {
   "cell_type": "code",
   "execution_count": 19,
   "id": "4bb6203c-8434-435b-ac32-bcdf1a8e1ba7",
   "metadata": {},
   "outputs": [
    {
     "name": "stdout",
     "output_type": "stream",
     "text": [
      "[1.1 2.1 3.1]\n",
      "[1 2 3]\n"
     ]
    }
   ],
   "source": [
    "# Change data type\n",
    "arr = np.array([1.1, 2.1, 3.1])\n",
    "print(arr)\n",
    "newarr = arr.astype(int)\n",
    "print(newarr)"
   ]
  },
  {
   "cell_type": "code",
   "execution_count": 23,
   "id": "97afe0f0-c912-4196-a79e-42bcc55ab842",
   "metadata": {},
   "outputs": [
    {
     "name": "stdout",
     "output_type": "stream",
     "text": [
      "[1 2 3 4 5]\n",
      "[10  2  3  4  5]\n",
      "[20  2  3  4  5]\n"
     ]
    }
   ],
   "source": [
    "arr = np.array([1, 2, 3, 4, 5])\n",
    "x = arr.copy()\n",
    "print(x)\n",
    "arr[0] = 10\n",
    "x[0] = 20\n",
    "print(arr)\n",
    "print(x)"
   ]
  },
  {
   "cell_type": "code",
   "execution_count": 25,
   "id": "4bb1a8a5-3618-4f6b-81b9-fc9822f4a31c",
   "metadata": {},
   "outputs": [
    {
     "name": "stdout",
     "output_type": "stream",
     "text": [
      "[20  2  3  4  5]\n",
      "[20  2  3  4  5]\n"
     ]
    }
   ],
   "source": [
    "# Make a view, change the original array, and display both arrays\n",
    "arr = np.array([1, 2, 3, 4, 5])\n",
    "x = arr.view()\n",
    "\n",
    "arr[0] = 10\n",
    "x[0] = 20\n",
    "\n",
    "print(arr)\n",
    "print(x)"
   ]
  },
  {
   "cell_type": "code",
   "execution_count": 26,
   "id": "fc7beb13-a45d-48fc-a4f1-1fe3c18c1505",
   "metadata": {},
   "outputs": [
    {
     "name": "stdout",
     "output_type": "stream",
     "text": [
      "15\n"
     ]
    }
   ],
   "source": [
    "a = np.array([1, 2, 3, 4, 5])\n",
    "s = a.sum()\n",
    "print(s)"
   ]
  },
  {
   "cell_type": "code",
   "execution_count": 28,
   "id": "df56c827-e13a-41f2-870c-acba67d80623",
   "metadata": {},
   "outputs": [
    {
     "name": "stdout",
     "output_type": "stream",
     "text": [
      "2.0\n"
     ]
    }
   ],
   "source": [
    "# variance of an array -> it quantifies how much the values differ from the mean (average) of the values\n",
    "v = a.var()\n",
    "print(v)"
   ]
  },
  {
   "cell_type": "code",
   "execution_count": 29,
   "id": "775872b3-e7ef-49fe-adc1-0d45fd0bee9c",
   "metadata": {},
   "outputs": [
    {
     "name": "stdout",
     "output_type": "stream",
     "text": [
      "3.0\n"
     ]
    }
   ],
   "source": [
    "print(a.mean())"
   ]
  },
  {
   "cell_type": "code",
   "execution_count": 31,
   "id": "20ae2e89-4844-4654-b937-f5b69a520fcb",
   "metadata": {},
   "outputs": [
    {
     "name": "stdout",
     "output_type": "stream",
     "text": [
      "1.4142135623730951\n"
     ]
    }
   ],
   "source": [
    "# standard deviation -> a measure of the amount of variation or dispersion of a set of values. It is the square root of the variance\n",
    "print(a.std())"
   ]
  },
  {
   "cell_type": "code",
   "execution_count": 33,
   "id": "3a5b629e-708b-467f-b1df-aa6784c12838",
   "metadata": {},
   "outputs": [
    {
     "name": "stdout",
     "output_type": "stream",
     "text": [
      "45\n",
      "[12 15 18]\n",
      "[ 6 15 24]\n"
     ]
    }
   ],
   "source": [
    "ar = np.array([[1, 2, 3], \n",
    "              [4, 5, 6], \n",
    "              [7, 8, 9]])\n",
    "\n",
    "print(ar.sum())  # sums all the elements\n",
    "print(ar.sum(axis=0))  # vertical sum\n",
    "print(ar.sum(axis=1))  # horizontal sum"
   ]
  },
  {
   "cell_type": "code",
   "execution_count": 34,
   "id": "e713f6ef-b9cb-4cc6-aaa4-783197aaba05",
   "metadata": {},
   "outputs": [
    {
     "data": {
      "text/plain": [
       "[0, 10, 20, 30, 40]"
      ]
     },
     "execution_count": 34,
     "metadata": {},
     "output_type": "execute_result"
    }
   ],
   "source": [
    "l = [0, 1, 2, 3, 4]\n",
    "\n",
    "[i*10 for i in l]"
   ]
  },
  {
   "cell_type": "code",
   "execution_count": 49,
   "id": "475fc52f-9002-4afb-906e-a209d45070e7",
   "metadata": {},
   "outputs": [
    {
     "name": "stdout",
     "output_type": "stream",
     "text": [
      "0\n",
      "1\n",
      "2\n",
      "3\n",
      "4\n"
     ]
    }
   ],
   "source": [
    "arr = np.array([1, 2, 3, 4])\n",
    "for i in l:\n",
    "    print(i)"
   ]
  },
  {
   "cell_type": "code",
   "execution_count": 51,
   "id": "f569c895-502c-43c3-afcc-d1610cb1b43d",
   "metadata": {},
   "outputs": [],
   "source": [
    "# NumPy Array\n",
    "# For numerical computations and performance-critical applications, NumPy arrays are typically preferred.\n",
    "# same data type\n",
    "arr = np.array([1, 2, 3, 4])\n",
    "\n",
    "# Python list\n",
    "# For general-purpose use and when working with mixed data types\n",
    "# mixed data type\n",
    "l = [1, 2, \"Hello\", True]"
   ]
  },
  {
   "cell_type": "code",
   "execution_count": 36,
   "id": "c2752272-681f-4625-952d-1d68c748362b",
   "metadata": {},
   "outputs": [
    {
     "name": "stdout",
     "output_type": "stream",
     "text": [
      "[0 1 2 3]\n"
     ]
    }
   ],
   "source": [
    "# arange method creates an array with a sequence of numbers. By default, it starts from 0 and increments by 1\n",
    "a = np.arange(4)\n",
    "print(a)"
   ]
  },
  {
   "cell_type": "markdown",
   "id": "2fef66e1-55b6-4a60-afe6-efdb27d6ee90",
   "metadata": {},
   "source": [
    "Random Numbers\n",
    "NumPy offers the random module to work with random numbers"
   ]
  },
  {
   "cell_type": "code",
   "execution_count": 37,
   "id": "c61b3e4d-f257-4ec8-9a5a-8f733c3ea5dd",
   "metadata": {},
   "outputs": [],
   "source": [
    "from numpy import random"
   ]
  },
  {
   "cell_type": "code",
   "execution_count": 41,
   "id": "f0f837fe-8346-4b89-9310-b9e4961b6a13",
   "metadata": {},
   "outputs": [
    {
     "name": "stdout",
     "output_type": "stream",
     "text": [
      "3\n"
     ]
    }
   ],
   "source": [
    "# Generate a random integer from 0 to 100\n",
    "x = random.randint(100)\n",
    "print(x)"
   ]
  },
  {
   "cell_type": "code",
   "execution_count": 44,
   "id": "9096b291-5d73-45eb-aaed-a607077a3ccd",
   "metadata": {},
   "outputs": [
    {
     "name": "stdout",
     "output_type": "stream",
     "text": [
      "0.6443391865179995\n"
     ]
    }
   ],
   "source": [
    "# Generate a random float from 0 to 1\n",
    "# rand() method returns a random float between 0 and 1\n",
    "x = random.rand()\n",
    "print(x)"
   ]
  },
  {
   "cell_type": "code",
   "execution_count": 46,
   "id": "d6c77397-1cb2-4efa-82c5-22dd282f4dbf",
   "metadata": {},
   "outputs": [
    {
     "name": "stdout",
     "output_type": "stream",
     "text": [
      "[ 9 49 45 73 18]\n"
     ]
    }
   ],
   "source": [
    "# Generate a 1-D array containing 5 random integers from 0 to 100\n",
    "x = random.randint(100, size=(5))\n",
    "print(x)"
   ]
  },
  {
   "cell_type": "code",
   "execution_count": 48,
   "id": "5ffb0fa1-c22f-4070-bc52-cd077fdc547f",
   "metadata": {},
   "outputs": [
    {
     "name": "stdout",
     "output_type": "stream",
     "text": [
      "[0.19396687 0.24762472 0.61703561 0.85424557 0.54236829]\n"
     ]
    }
   ],
   "source": [
    "# Generate a 1-D array containing 5 random floats\n",
    "x = random.rand(5)\n",
    "print(x)"
   ]
  },
  {
   "cell_type": "markdown",
   "id": "d5215643-1ff3-4604-b4ab-04dbf76d8091",
   "metadata": {},
   "source": [
    "Array Join"
   ]
  },
  {
   "cell_type": "code",
   "execution_count": 54,
   "id": "91212fbe-6cdf-4ca3-9066-daa9a42e1528",
   "metadata": {},
   "outputs": [
    {
     "name": "stdout",
     "output_type": "stream",
     "text": [
      "[1 2 3 4 5 6]\n"
     ]
    }
   ],
   "source": [
    "arr1 = np.array([1, 2, 3])\n",
    "arr2 = np.array([4, 5, 6])\n",
    "con = np.concatenate((arr1, arr2))  # double ()\n",
    "print(con)"
   ]
  },
  {
   "cell_type": "code",
   "execution_count": 56,
   "id": "67e96e92-ef62-4999-899f-933331fc0319",
   "metadata": {},
   "outputs": [
    {
     "name": "stdout",
     "output_type": "stream",
     "text": [
      "[[1 4]\n",
      " [2 5]\n",
      " [3 6]]\n"
     ]
    }
   ],
   "source": [
    "arr1 = np.array([1, 2, 3])\n",
    "arr2 = np.array([4, 5, 6])\n",
    "st = np.stack((arr1, arr2), axis=1)  # double ()\n",
    "print(st)"
   ]
  },
  {
   "cell_type": "code",
   "execution_count": 59,
   "id": "42b78873-2653-4d85-a18d-5f6a1dd66706",
   "metadata": {},
   "outputs": [
    {
     "name": "stdout",
     "output_type": "stream",
     "text": [
      "[1 2 3 4 5 6]\n",
      "[[1 2 3]\n",
      " [4 5 6]]\n"
     ]
    }
   ],
   "source": [
    "h = np.hstack((arr1, arr2))\n",
    "print(h)\n",
    "\n",
    "v = np.vstack((arr1, arr2))\n",
    "print(v)"
   ]
  },
  {
   "cell_type": "markdown",
   "id": "b1bad521-f09a-4ab3-937c-5adeb930d43e",
   "metadata": {},
   "source": [
    "Split"
   ]
  },
  {
   "cell_type": "code",
   "execution_count": 5,
   "id": "3c146858-d3a2-4880-ae1c-878de910e282",
   "metadata": {},
   "outputs": [
    {
     "name": "stdout",
     "output_type": "stream",
     "text": [
      "[array([1, 2, 3]), array([4, 5, 6])]\n"
     ]
    }
   ],
   "source": [
    "arr = np.array([1, 2, 3, 4, 5, 6])\n",
    "s = np.array_split(arr, 2)\n",
    "print(s)     # list containing arrays"
   ]
  },
  {
   "cell_type": "code",
   "execution_count": 4,
   "id": "94163ebc-8043-4da1-95f5-2e7d1aa1a35e",
   "metadata": {},
   "outputs": [
    {
     "name": "stdout",
     "output_type": "stream",
     "text": [
      "[1 2 3]\n"
     ]
    }
   ],
   "source": [
    "print(s[0])"
   ]
  },
  {
   "cell_type": "markdown",
   "id": "35348902-e8d6-4f91-a819-39fb8aa1e146",
   "metadata": {},
   "source": [
    "Search\n",
    "To search an array, use the where() method, return indexes"
   ]
  },
  {
   "cell_type": "code",
   "execution_count": 8,
   "id": "1ea57e27-6fcc-4796-8530-c9f5a9fce0ee",
   "metadata": {},
   "outputs": [
    {
     "name": "stdout",
     "output_type": "stream",
     "text": [
      "(array([3, 5], dtype=int64),)\n"
     ]
    }
   ],
   "source": [
    "# Find the indexes where the value is 4\n",
    "arr = np.array([1, 2, 3, 4, 5, 4])\n",
    "s = np.where(arr == 4)\n",
    "print(s)      # tuple containing array"
   ]
  },
  {
   "cell_type": "code",
   "execution_count": 9,
   "id": "8b897879-bb9e-4709-8b57-d5153871d2e7",
   "metadata": {},
   "outputs": [
    {
     "name": "stdout",
     "output_type": "stream",
     "text": [
      "(array([1, 3, 5], dtype=int64),)\n"
     ]
    }
   ],
   "source": [
    "# Find the indexes where the values are even\n",
    "even = np.where(arr%2 == 0)\n",
    "print(even)"
   ]
  },
  {
   "cell_type": "markdown",
   "id": "3306addb-f56b-4a3a-bc0a-492c6f0d64df",
   "metadata": {},
   "source": [
    "searchsorted() which performs a binary search in the array, and returns the index where the specified value would be inserted\n",
    "to maintain the search order.\n",
    "The searchsorted() method is assumed to be used on sorted arrays."
   ]
  },
  {
   "cell_type": "code",
   "execution_count": 16,
   "id": "12fe078c-9d6e-4c35-a4e8-9196d12a13e7",
   "metadata": {},
   "outputs": [
    {
     "name": "stdout",
     "output_type": "stream",
     "text": [
      "2\n"
     ]
    }
   ],
   "source": [
    "arr = np.array([5, 6, 7, 8])\n",
    "s = np.searchsorted(arr, 7)    # (arr, value)\n",
    "print(s)    # index"
   ]
  },
  {
   "cell_type": "code",
   "execution_count": 18,
   "id": "b7aaf857-b052-463f-a3b3-7c401e2b427b",
   "metadata": {},
   "outputs": [
    {
     "name": "stdout",
     "output_type": "stream",
     "text": [
      "3\n"
     ]
    }
   ],
   "source": [
    "# searh from right side\n",
    "arr = np.array([5, 6, 7, 8])\n",
    "s = np.searchsorted(arr, 7, side='right')   \n",
    "print(s)"
   ]
  },
  {
   "cell_type": "code",
   "execution_count": 14,
   "id": "b154f568-754e-4540-a67d-1f7dccc3891e",
   "metadata": {},
   "outputs": [
    {
     "name": "stdout",
     "output_type": "stream",
     "text": [
      "[0 4]\n"
     ]
    }
   ],
   "source": [
    "arr = np.array([5, 6, 7, 8])\n",
    "s = np.searchsorted(arr, [4, 9])   # multiple values\n",
    "print(s)"
   ]
  },
  {
   "cell_type": "markdown",
   "id": "662e5a47-a158-4029-8fc1-a8c1c588e19e",
   "metadata": {},
   "source": [
    "Sort\n",
    "sort() method returns a copy of the array, leaving the original array unchanged."
   ]
  },
  {
   "cell_type": "code",
   "execution_count": 19,
   "id": "0bc10972-3504-4fbe-8004-17fac5fb1d90",
   "metadata": {},
   "outputs": [
    {
     "name": "stdout",
     "output_type": "stream",
     "text": [
      "[1 2 6 7 9]\n"
     ]
    }
   ],
   "source": [
    "arr = np.array([6, 9, 2, 7, 1])\n",
    "x = np.sort(arr)\n",
    "print(x)"
   ]
  },
  {
   "cell_type": "code",
   "execution_count": 20,
   "id": "3583d562-ba73-4eeb-8b82-d98a39244611",
   "metadata": {},
   "outputs": [
    {
     "name": "stdout",
     "output_type": "stream",
     "text": [
      "[False  True  True]\n"
     ]
    }
   ],
   "source": [
    "arr = np.array([True, False, True])\n",
    "x = np.sort(arr)\n",
    "print(x)"
   ]
  },
  {
   "cell_type": "code",
   "execution_count": 21,
   "id": "140d1131-7e30-4903-8406-378547dec784",
   "metadata": {},
   "outputs": [
    {
     "name": "stdout",
     "output_type": "stream",
     "text": [
      "['apple' 'banana' 'cherry']\n"
     ]
    }
   ],
   "source": [
    "arr = np.array(['banana', 'cherry', 'apple'])\n",
    "print(np.sort(arr))"
   ]
  },
  {
   "cell_type": "markdown",
   "id": "c73eb688-62a1-4420-a8e2-d0dacc6e96fd",
   "metadata": {},
   "source": [
    "Filter\n",
    "In NumPy, you filter an array using a boolean index list.\n",
    "A boolean index list is a list of booleans corresponding to indexes in the array."
   ]
  },
  {
   "cell_type": "code",
   "execution_count": 24,
   "id": "d92cfb94-c56d-40ed-81a8-94eaecfb2f6a",
   "metadata": {},
   "outputs": [
    {
     "name": "stdout",
     "output_type": "stream",
     "text": [
      "[ True False  True False False]\n",
      "[6 2]\n"
     ]
    }
   ],
   "source": [
    "# Create a filter array that will return only even elements from the original array\n",
    "arr = np.array([6, 9, 2, 7, 1])\n",
    "even_mask = arr%2 == 0\n",
    "print(even_mask)\n",
    "even_num = arr[even_mask]\n",
    "print(even_num)"
   ]
  },
  {
   "cell_type": "code",
   "execution_count": null,
   "id": "23773a0c-2fa6-4b5b-991d-4ddd466b1531",
   "metadata": {},
   "outputs": [],
   "source": []
  }
 ],
 "metadata": {
  "kernelspec": {
   "display_name": "Python 3 (ipykernel)",
   "language": "python",
   "name": "python3"
  },
  "language_info": {
   "codemirror_mode": {
    "name": "ipython",
    "version": 3
   },
   "file_extension": ".py",
   "mimetype": "text/x-python",
   "name": "python",
   "nbconvert_exporter": "python",
   "pygments_lexer": "ipython3",
   "version": "3.12.0"
  }
 },
 "nbformat": 4,
 "nbformat_minor": 5
}
