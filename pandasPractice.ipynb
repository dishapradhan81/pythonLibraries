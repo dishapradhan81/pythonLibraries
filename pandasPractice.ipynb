{
 "cells": [
  {
   "cell_type": "code",
   "execution_count": 3,
   "id": "81a39805-14dd-4bbe-badf-5a344f0fb273",
   "metadata": {},
   "outputs": [],
   "source": [
    "import pandas as pd"
   ]
  },
  {
   "cell_type": "code",
   "execution_count": 2,
   "id": "e4d1ee3a-67d8-4868-9c0e-0e8e3e71032c",
   "metadata": {},
   "outputs": [],
   "source": [
    "myDataSet = {\n",
    "    'Name': ['Arya', 'Dustin', 'Ron'],\n",
    "    'Age': [14, 12, 14]\n",
    "}"
   ]
  },
  {
   "cell_type": "code",
   "execution_count": 3,
   "id": "5f700ac9-6d85-463f-b8b9-30069140a07a",
   "metadata": {},
   "outputs": [
    {
     "name": "stdout",
     "output_type": "stream",
     "text": [
      "     Name  Age\n",
      "0    Arya   14\n",
      "1  Dustin   12\n",
      "2     Ron   14\n"
     ]
    }
   ],
   "source": [
    "df = pd.DataFrame(myDataSet)\n",
    "print(df)"
   ]
  },
  {
   "cell_type": "markdown",
   "id": "d8055c59-13bd-45b8-8bf4-a774cbf5e218",
   "metadata": {},
   "source": [
    "Series"
   ]
  },
  {
   "cell_type": "code",
   "execution_count": 29,
   "id": "074b2d41-e1d0-44ee-b310-fca938e318ce",
   "metadata": {},
   "outputs": [
    {
     "name": "stdout",
     "output_type": "stream",
     "text": [
      "0    10\n",
      "1    20\n",
      "2    30\n",
      "dtype: int64\n",
      "10\n"
     ]
    }
   ],
   "source": [
    "# Series-list\n",
    "x = [10, 20, 30]\n",
    "s = pd.Series(x)\n",
    "print(s)\n",
    "print(s[0])"
   ]
  },
  {
   "cell_type": "code",
   "execution_count": 12,
   "id": "d4f4c166-1df1-4984-b046-b5e833f9c3e6",
   "metadata": {},
   "outputs": [
    {
     "name": "stdout",
     "output_type": "stream",
     "text": [
      "x    10\n",
      "y    20\n",
      "z    30\n",
      "dtype: int64\n"
     ]
    }
   ],
   "source": [
    "x = [10, 20, 30]\n",
    "s = pd.Series(x, index=[\"x\", \"y\", \"z\"])\n",
    "print(s)"
   ]
  },
  {
   "cell_type": "code",
   "execution_count": 30,
   "id": "1bc8e64f-c4ba-42af-874d-4148bda9612d",
   "metadata": {},
   "outputs": [
    {
     "name": "stdout",
     "output_type": "stream",
     "text": [
      "day1    10\n",
      "day2    20\n",
      "day3    30\n",
      "dtype: int64\n"
     ]
    }
   ],
   "source": [
    "# Series-dictionary\n",
    "x = {\"day1\": 10, \"day2\": 20, \"day3\": 30}\n",
    "s = pd.Series(x)\n",
    "print(s)"
   ]
  },
  {
   "cell_type": "markdown",
   "id": "352afeea-c230-4bf2-8de3-03bfe4239f34",
   "metadata": {},
   "source": [
    "DataFrame"
   ]
  },
  {
   "cell_type": "code",
   "execution_count": 4,
   "id": "e0fa8a3e-8f0c-4727-af68-c19d90ba303e",
   "metadata": {},
   "outputs": [
    {
     "name": "stdout",
     "output_type": "stream",
     "text": [
      "     Name  Age\n",
      "0    Arya   14\n",
      "1  Dustin   12\n",
      "2     Ron   14\n",
      "3    Emma   13\n",
      "4   Harry   11\n",
      "5      El   12\n",
      "6   Steve   20\n",
      "7    None   20\n"
     ]
    }
   ],
   "source": [
    "data = {\n",
    "    'Name': ['Arya', 'Dustin', 'Ron', 'Emma', 'Harry', 'El','Steve', None],\n",
    "    'Age': [14, 12, 14, 13, 11, 12, 20, 20]\n",
    "}\n",
    "df = pd.DataFrame(data)\n",
    "print(df)"
   ]
  },
  {
   "cell_type": "code",
   "execution_count": 18,
   "id": "0684440c-7e9d-4dd4-8b1e-792567f06c48",
   "metadata": {},
   "outputs": [
    {
     "name": "stdout",
     "output_type": "stream",
     "text": [
      "Name    Arya\n",
      "Age       14\n",
      "Name: 0, dtype: object\n"
     ]
    }
   ],
   "source": [
    "# loc attribute to return one or more specified row\n",
    "print(df.loc[0])"
   ]
  },
  {
   "cell_type": "code",
   "execution_count": 19,
   "id": "334c50bb-c466-4036-aae2-aae810515977",
   "metadata": {},
   "outputs": [
    {
     "name": "stdout",
     "output_type": "stream",
     "text": [
      "     Name  Age\n",
      "0    Arya   14\n",
      "1  Dustin   12\n"
     ]
    }
   ],
   "source": [
    "print(df.loc[[0, 1]])   # double square []"
   ]
  },
  {
   "cell_type": "code",
   "execution_count": 25,
   "id": "80a49b81-8c74-4035-abbb-305b0d0d00f8",
   "metadata": {},
   "outputs": [
    {
     "name": "stdout",
     "output_type": "stream",
     "text": [
      "     Name  Age\n",
      "0    Arya   14\n",
      "1  Dustin   12\n",
      "2     Ron   14\n",
      "3    Emma   13\n",
      "4   Harry   11\n"
     ]
    }
   ],
   "source": [
    "# head() method returns the headers and a specified number of rows, starting from the top.\n",
    "print(df.head())   # by default starting 5"
   ]
  },
  {
   "cell_type": "code",
   "execution_count": 42,
   "id": "7315e7b5-b4d7-4aa1-8ac9-03c8e9eee363",
   "metadata": {},
   "outputs": [
    {
     "name": "stdout",
     "output_type": "stream",
     "text": [
      "    Name  Age\n",
      "3   Emma   13\n",
      "4  Harry   11\n",
      "5     El   12\n",
      "6  Steve   20\n",
      "7   None   20\n"
     ]
    }
   ],
   "source": [
    "print(df.tail())"
   ]
  },
  {
   "cell_type": "code",
   "execution_count": 28,
   "id": "fe2abb2b-b952-4343-8cba-b461c6b2b1ac",
   "metadata": {},
   "outputs": [
    {
     "name": "stdout",
     "output_type": "stream",
     "text": [
      "<class 'pandas.core.frame.DataFrame'>\n",
      "RangeIndex: 7 entries, 0 to 6\n",
      "Data columns (total 2 columns):\n",
      " #   Column  Non-Null Count  Dtype \n",
      "---  ------  --------------  ----- \n",
      " 0   Name    7 non-null      object\n",
      " 1   Age     7 non-null      int64 \n",
      "dtypes: int64(1), object(1)\n",
      "memory usage: 244.0+ bytes\n",
      "None\n"
     ]
    }
   ],
   "source": [
    "# info() method that gives you more information about the data set.\n",
    "# also tells us how many Non-Null values there are present in each column\n",
    "print(df.info())  "
   ]
  },
  {
   "cell_type": "markdown",
   "id": "5b7cff13-ccfd-4b68-8ae5-06b23e91997a",
   "metadata": {},
   "source": [
    "Cleaning Data"
   ]
  },
  {
   "cell_type": "markdown",
   "id": "2f0dc78e-c0bb-4099-b297-caa90418c834",
   "metadata": {},
   "source": [
    "Cleaning Empty Cells"
   ]
  },
  {
   "cell_type": "code",
   "execution_count": 48,
   "id": "42909569-c24d-4620-9790-853d5529c54e",
   "metadata": {},
   "outputs": [
    {
     "name": "stdout",
     "output_type": "stream",
     "text": [
      "     Name  Age\n",
      "0    Arya   14\n",
      "1  Dustin   12\n",
      "2     Ron   14\n",
      "3    Emma   13\n",
      "4   Harry   11\n",
      "5      El   12\n",
      "6   Steve   20\n"
     ]
    }
   ],
   "source": [
    "# remove rows that contain empty cells.\n",
    "# dropna() method returns a new DataFrame, and will not change the original.\n",
    "r = df.dropna()\n",
    "print(r.to_string())     # to_string() provides a detailed, untruncated view of the entire DataFrame"
   ]
  },
  {
   "cell_type": "code",
   "execution_count": 45,
   "id": "fd001a77-1c2f-4e9e-aeac-ed2ac696f19d",
   "metadata": {},
   "outputs": [
    {
     "name": "stdout",
     "output_type": "stream",
     "text": [
      "     Name  Age\n",
      "0    Arya   14\n",
      "1  Dustin   12\n",
      "2     Ron   14\n",
      "3    Emma   13\n",
      "4   Harry   11\n",
      "5      El   12\n",
      "6   Steve   20\n",
      "7    None   20\n"
     ]
    }
   ],
   "source": [
    "print(df.to_string())\n",
    "      "
   ]
  },
  {
   "cell_type": "code",
   "execution_count": 49,
   "id": "21c6c191-7f09-4b30-8c6b-2413c32acf06",
   "metadata": {},
   "outputs": [
    {
     "name": "stdout",
     "output_type": "stream",
     "text": [
      "     Name  Age\n",
      "0    Arya   14\n",
      "1  Dustin   12\n",
      "2     Ron   14\n",
      "3    Emma   13\n",
      "4   Harry   11\n",
      "5      El   12\n",
      "6   Steve   20\n"
     ]
    }
   ],
   "source": [
    "r = df.dropna(inplace = True)   #  it will remove all rows containing NULL values from the original DataFrame.\n",
    "print(df.to_string())"
   ]
  },
  {
   "cell_type": "code",
   "execution_count": null,
   "id": "39fe86d3-92d9-4637-9406-5b479f9a4233",
   "metadata": {},
   "outputs": [],
   "source": [
    " # Remove rows with a NULL value in the \"Name\" column\n",
    "r = df.dropna(subset=[\"Name\"], inplace=True)"
   ]
  },
  {
   "cell_type": "code",
   "execution_count": null,
   "id": "457b7b07-6ffc-4365-8cd1-a73a0c97d362",
   "metadata": {},
   "outputs": [],
   "source": [
    "# fillna() method allows us to replace empty cells with a value\n",
    "df.fillna('Unknown', inplace=True)"
   ]
  },
  {
   "cell_type": "code",
   "execution_count": null,
   "id": "655e1744-5466-47c5-91e9-b240de44d136",
   "metadata": {},
   "outputs": [],
   "source": [
    "# replace in a specific col.\n",
    "df[\"Name\"].fillna('Unknown', inplace=True)"
   ]
  },
  {
   "cell_type": "code",
   "execution_count": 51,
   "id": "2ee77467-9030-46d9-b860-d32dfcf0e1f2",
   "metadata": {},
   "outputs": [
    {
     "data": {
      "text/plain": [
       "Index(['Name', 'Age'], dtype='object')"
      ]
     },
     "execution_count": 51,
     "metadata": {},
     "output_type": "execute_result"
    }
   ],
   "source": [
    "# returns all cols. in a DataDrame\n",
    "df.columns"
   ]
  },
  {
   "cell_type": "code",
   "execution_count": null,
   "id": "fbba38a5-01f9-40ec-883e-0666008705bb",
   "metadata": {},
   "outputs": [],
   "source": [
    "# mean() -> the average value (the sum of all values divided by number of values)\n",
    "x = df['Age'].mean()\n",
    "df['Age'].fillna(x, inplace=True)"
   ]
  },
  {
   "cell_type": "code",
   "execution_count": null,
   "id": "6e8a212c-f61c-4840-841b-b5bf66929a7f",
   "metadata": {},
   "outputs": [],
   "source": [
    "# median() -> the value in the middle, after you have sorted all values ascending\n",
    "x = df['Age'].median()\n",
    "df['Age'].fillna(x, inplace=True)"
   ]
  },
  {
   "cell_type": "code",
   "execution_count": null,
   "id": "f1f19589-ff43-4048-b9d2-f230ec5dcc88",
   "metadata": {},
   "outputs": [],
   "source": [
    "# mode() -> the value that appears most frequently.\n",
    "x = df['Age'].mode()[0]     # returns a Series (as there can be more than one mode), selects the first mode from the Series.\n",
    "df['Age'].fillna(x, inplace=True)"
   ]
  },
  {
   "cell_type": "markdown",
   "id": "680dbd37-1d0b-4423-bda2-265b45fde926",
   "metadata": {},
   "source": [
    "Cleaning Wrong Data"
   ]
  },
  {
   "cell_type": "code",
   "execution_count": 53,
   "id": "8b7d118e-6331-4ddb-be8c-db979570c237",
   "metadata": {},
   "outputs": [
    {
     "name": "stdout",
     "output_type": "stream",
     "text": [
      "     Name  Age\n",
      "0    Arya   14\n",
      "1  Dustin   12\n",
      "2     Ron   14\n",
      "3    Emma   13\n",
      "4   Harry   11\n",
      "5      El   12\n",
      "6   Steve   19\n"
     ]
    }
   ],
   "source": [
    "df.loc[6, 'Age'] = 19    # replace value at index 6 in Age col with 19\n",
    "print(df)"
   ]
  },
  {
   "cell_type": "code",
   "execution_count": 55,
   "id": "cf985953-bd51-48ea-8cc2-f599102e550d",
   "metadata": {},
   "outputs": [
    {
     "name": "stdout",
     "output_type": "stream",
     "text": [
      "     Name  Age\n",
      "0    Arya   14\n",
      "1  Dustin   12\n",
      "2     Ron   14\n",
      "3    Emma   13\n",
      "4   Harry   11\n",
      "5      El   12\n",
      "6   Steve   15\n"
     ]
    }
   ],
   "source": [
    "for x in df.index:\n",
    "    if df.loc[x, 'Age'] > 15:\n",
    "        df.loc[x, 'Age'] = 15\n",
    "print(df)"
   ]
  },
  {
   "cell_type": "code",
   "execution_count": null,
   "id": "385d0b81-72db-44e9-84c5-ea3a4ecf9ccb",
   "metadata": {},
   "outputs": [],
   "source": [
    "for x in df.index:\n",
    "    if df.loc[x, 'Age'] > 15:\n",
    "        df.drop(x, inplace=True)     #  is more general and allows you to remove rows or columns based on index position"
   ]
  },
  {
   "cell_type": "markdown",
   "id": "7027ac4e-735d-4d40-935c-2240cc0c777b",
   "metadata": {},
   "source": [
    "Removing Duplicates"
   ]
  },
  {
   "cell_type": "code",
   "execution_count": null,
   "id": "df827365-a920-4287-8152-25a1ea9fda07",
   "metadata": {},
   "outputs": [],
   "source": [
    "df.duplicated()   # returns True for every row that is a duplicate, otherwise False"
   ]
  },
  {
   "cell_type": "code",
   "execution_count": null,
   "id": "451cebbe-e354-43f6-893e-a00878df343e",
   "metadata": {},
   "outputs": [],
   "source": [
    "df.drop_duplicates(inplace=True)"
   ]
  },
  {
   "cell_type": "markdown",
   "id": "1160789e-b929-4c09-aeb0-aa863e5acb66",
   "metadata": {},
   "source": [
    "Other methods"
   ]
  },
  {
   "cell_type": "code",
   "execution_count": 7,
   "id": "82bf79fe-94bd-4d05-bf76-808213a249ba",
   "metadata": {},
   "outputs": [
    {
     "name": "stdout",
     "output_type": "stream",
     "text": [
      "116\n"
     ]
    }
   ],
   "source": [
    "x = df['Age'].sum()\n",
    "print(x)"
   ]
  },
  {
   "cell_type": "code",
   "execution_count": 10,
   "id": "0ddc81f3-114d-43b7-95f5-ca8695f656b7",
   "metadata": {},
   "outputs": [
    {
     "name": "stdout",
     "output_type": "stream",
     "text": [
      "     Name  Age\n",
      "6   Steve   20\n",
      "7    None   20\n",
      "0    Arya   14\n",
      "2     Ron   14\n",
      "3    Emma   13\n",
      "1  Dustin   12\n",
      "5      El   12\n",
      "4   Harry   11\n"
     ]
    }
   ],
   "source": [
    "x = df.sort_values(by='Age', ascending=False)\n",
    "print(x)"
   ]
  },
  {
   "cell_type": "code",
   "execution_count": 11,
   "id": "33fdd07d-8235-4d5b-8afd-dd2936f59573",
   "metadata": {},
   "outputs": [],
   "source": [
    "# add new col to existing df\n",
    "df['Gender']=['M','M','M','F','M','F','M','F']"
   ]
  },
  {
   "cell_type": "code",
   "execution_count": 12,
   "id": "110f5872-bbf5-4ca4-8483-42f3082188a5",
   "metadata": {},
   "outputs": [
    {
     "name": "stdout",
     "output_type": "stream",
     "text": [
      "     Name  Age Gender\n",
      "0    Arya   14      M\n",
      "1  Dustin   12      M\n",
      "2     Ron   14      M\n",
      "3    Emma   13      F\n",
      "4   Harry   11      M\n",
      "5      El   12      F\n",
      "6   Steve   20      M\n",
      "7    None   20      F\n"
     ]
    }
   ],
   "source": [
    "print(df)"
   ]
  },
  {
   "cell_type": "code",
   "execution_count": 26,
   "id": "3ef06052-ad03-4b4e-9148-6795bc8f4512",
   "metadata": {},
   "outputs": [
    {
     "name": "stdout",
     "output_type": "stream",
     "text": [
      "      Name  Age Gender\n",
      "0     Arya   14      M\n",
      "1   Dustin   12      M\n",
      "2      Ron   14      M\n",
      "3     Emma   13      F\n",
      "4    Harry   11      M\n",
      "5       El   12      F\n",
      "6    Steve   20      M\n",
      "7     None   20      F\n",
      "8     Lexi   11      F\n",
      "9     Lexi   11      F\n",
      "10    Lexi   11      F\n"
     ]
    }
   ],
   "source": [
    "# add a new row to existing df\n",
    "new_row = ['Lexi', 11, 'F']\n",
    "df.loc[len(df)] = new_row\n",
    "print(df)"
   ]
  },
  {
   "cell_type": "code",
   "execution_count": 27,
   "id": "dc2f7063-d931-48d8-9de8-eed274d16070",
   "metadata": {},
   "outputs": [
    {
     "name": "stdout",
     "output_type": "stream",
     "text": [
      "11\n"
     ]
    }
   ],
   "source": [
    "print(len(df))"
   ]
  },
  {
   "cell_type": "code",
   "execution_count": 30,
   "id": "672eb7b4-dbc9-46ae-b17d-246a093f5991",
   "metadata": {},
   "outputs": [
    {
     "name": "stdout",
     "output_type": "stream",
     "text": [
      "(11, 3)\n"
     ]
    }
   ],
   "source": [
    "print(df.shape)   # to get no. of rows & cols"
   ]
  },
  {
   "cell_type": "code",
   "execution_count": 19,
   "id": "98785514-c741-42bf-bc89-7acb71a206eb",
   "metadata": {},
   "outputs": [
    {
     "name": "stdout",
     "output_type": "stream",
     "text": [
      "<pandas.core.groupby.generic.DataFrameGroupBy object at 0x000001E851829A00>\n",
      "  Gender                     Name  Age\n",
      "0      F                   EmmaEl   45\n",
      "1      M  AryaDustinRonHarrySteve   71\n"
     ]
    }
   ],
   "source": [
    "#  groupby() method itself does not produce a printable result directly\n",
    "x = df.groupby(['Gender'], as_index=False)\n",
    "print(x) \n",
    "# To see meaningful output, you need to perform an aggregation or transformation on the grouped data\n",
    "x = df.groupby(['Gender'], as_index=False).sum()\n",
    "print(x) "
   ]
  },
  {
   "cell_type": "code",
   "execution_count": 23,
   "id": "378522f4-d4eb-4dd3-8d45-8eecad183018",
   "metadata": {},
   "outputs": [
    {
     "name": "stdout",
     "output_type": "stream",
     "text": [
      "                           Name  Age\n",
      "Gender                              \n",
      "F                        EmmaEl   45\n",
      "M       AryaDustinRonHarrySteve   71\n"
     ]
    }
   ],
   "source": [
    "x = df.groupby(['Gender']).sum()    # by default as_index=True\n",
    "print(x)"
   ]
  },
  {
   "cell_type": "code",
   "execution_count": 21,
   "id": "893669f3-a602-4d76-9091-bd1dcc786619",
   "metadata": {},
   "outputs": [
    {
     "name": "stdout",
     "output_type": "stream",
     "text": [
      "  Gender  Age\n",
      "0      F   45\n",
      "1      M   71\n"
     ]
    }
   ],
   "source": [
    "# print only Gender and Age col in the output\n",
    "x = df.groupby(['Gender'], as_index=False).sum()\n",
    "selected_col = x[['Gender','Age']]\n",
    "print(selected_col) \n"
   ]
  },
  {
   "cell_type": "code",
   "execution_count": null,
   "id": "e7dd26c9-23ed-4f94-a499-1f7b7d6bf82e",
   "metadata": {},
   "outputs": [],
   "source": []
  }
 ],
 "metadata": {
  "kernelspec": {
   "display_name": "Python 3 (ipykernel)",
   "language": "python",
   "name": "python3"
  },
  "language_info": {
   "codemirror_mode": {
    "name": "ipython",
    "version": 3
   },
   "file_extension": ".py",
   "mimetype": "text/x-python",
   "name": "python",
   "nbconvert_exporter": "python",
   "pygments_lexer": "ipython3",
   "version": "3.12.0"
  }
 },
 "nbformat": 4,
 "nbformat_minor": 5
}
